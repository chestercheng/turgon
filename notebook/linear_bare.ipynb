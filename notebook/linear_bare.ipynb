{
 "cells": [
  {
   "cell_type": "markdown",
   "metadata": {},
   "source": [
    "This is the first, simple demonstration of the development version of this code."
   ]
  },
  {
   "cell_type": "code",
   "execution_count": null,
   "metadata": {},
   "outputs": [],
   "source": [
    "%matplotlib inline\n",
    "\n",
    "import numpy as np\n",
    "from matplotlib import pyplot as plt\n",
    "from matplotlib import animation, rc\n",
    "from IPython.display import HTML\n",
    "\n",
    "import libst"
   ]
  },
  {
   "cell_type": "markdown",
   "metadata": {},
   "source": [
    "Show propagating wave."
   ]
  },
  {
   "cell_type": "code",
   "execution_count": null,
   "metadata": {},
   "outputs": [],
   "source": [
    "grid = libst.Grid(0, 4*2*np.pi, 4*64)\n",
    "cfl = 1\n",
    "dx = (grid.xmax - grid.xmin) / grid.ncelm\n",
    "dt = dx * cfl\n",
    "svr = libst.LinearScalarSolver(grid=grid, time_increment=dt)\n",
    "\n",
    "# Initialize\n",
    "for e in svr.selms(odd_plane=False):\n",
    "    if e.xctr < 2*np.pi or e.xctr > 2*2*np.pi:\n",
    "        v = 0\n",
    "        dv = 0\n",
    "    else:\n",
    "        v = np.sin(e.xctr)\n",
    "        dv = np.cos(e.xctr)\n",
    "    e.set_so0(0, v)\n",
    "    e.set_so1(0, dv)\n",
    "    \n",
    "plt.figure(figsize=(15,10))\n",
    "plt.plot(svr.xctr() / np.pi, svr.get_so0(0), '-')\n",
    "\n",
    "svr.setup_march()\n",
    "svr.march_alpha2(50)\n",
    "plt.plot(svr.xctr() / np.pi, svr.get_so0(0), '-')"
   ]
  },
  {
   "cell_type": "code",
   "execution_count": null,
   "metadata": {},
   "outputs": [],
   "source": [
    "grid = libst.Grid(0, 4*2*np.pi, 4*64)\n",
    "cfl = 1\n",
    "dx = (grid.xmax - grid.xmin) / grid.ncelm\n",
    "dt = dx * cfl\n",
    "svr = libst.LinearScalarSolver(grid=grid, time_increment=dt)\n",
    "\n",
    "# Initialize\n",
    "for e in svr.selms(odd_plane=False):\n",
    "    if e.xctr < 2*np.pi or e.xctr > 2*2*np.pi:\n",
    "        v = 0\n",
    "        dv = 0\n",
    "    else:\n",
    "        v = np.sin(e.xctr)\n",
    "        dv = np.cos(e.xctr)\n",
    "    e.set_so0(0, v)\n",
    "    e.set_so1(0, dv)\n",
    "\n",
    "def animate(nsteps, ninterval):\n",
    "    fig, ax = plt.subplots(figsize=(15,10))\n",
    "\n",
    "    ax.set_xlim((svr.selm(0).x/np.pi, svr.selm(svr.grid.ncelm).x/np.pi))\n",
    "    ax.set_ylim((-1.2, 1.2))\n",
    "    ax.grid()\n",
    "\n",
    "    line, = ax.plot([], [], \"-\")\n",
    "\n",
    "    def init():\n",
    "        svr.setup_march()\n",
    "        line.set_data(svr.xctr()/np.pi, svr.get_so0(0))\n",
    "        return (line,)\n",
    "\n",
    "    def animate(i):\n",
    "        if i != 0:\n",
    "            svr.march_alpha2(ninterval)\n",
    "        line.set_data(svr.xctr()/np.pi, svr.get_so0(0))\n",
    "        return (line,)\n",
    "\n",
    "    anim = animation.FuncAnimation(fig, animate, init_func=init,\n",
    "                                   frames=nsteps+1, interval=100,\n",
    "                                   blit=True)\n",
    "    return HTML(anim.to_jshtml())\n",
    "            \n",
    "#animate(100, 10) # Don't check in the animation to git, since it's big."
   ]
  }
 ],
 "metadata": {
  "kernelspec": {
   "display_name": "Python 3",
   "language": "python",
   "name": "python3"
  },
  "language_info": {
   "codemirror_mode": {
    "name": "ipython",
    "version": 3
   },
   "file_extension": ".py",
   "mimetype": "text/x-python",
   "name": "python",
   "nbconvert_exporter": "python",
   "pygments_lexer": "ipython3",
   "version": "3.7.4+"
  }
 },
 "nbformat": 4,
 "nbformat_minor": 2
}
